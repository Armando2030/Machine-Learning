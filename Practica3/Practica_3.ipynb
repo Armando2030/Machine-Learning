{
 "cells": [
  {
   "cell_type": "code",
   "execution_count": 1,
   "metadata": {},
   "outputs": [],
   "source": [
    "import pandas as pd\n",
    "import matplotlib.pyplot as plt\n",
    "import numpy as np \n",
    "from sklearn.model_selection import train_test_split"
   ]
  },
  {
   "cell_type": "code",
   "execution_count": 2,
   "metadata": {},
   "outputs": [
    {
     "data": {
      "text/html": [
       "<div>\n",
       "<style scoped>\n",
       "    .dataframe tbody tr th:only-of-type {\n",
       "        vertical-align: middle;\n",
       "    }\n",
       "\n",
       "    .dataframe tbody tr th {\n",
       "        vertical-align: top;\n",
       "    }\n",
       "\n",
       "    .dataframe thead th {\n",
       "        text-align: right;\n",
       "    }\n",
       "</style>\n",
       "<table border=\"1\" class=\"dataframe\">\n",
       "  <thead>\n",
       "    <tr style=\"text-align: right;\">\n",
       "      <th></th>\n",
       "      <th>Terreno (m2)</th>\n",
       "      <th>Precio (MDP)</th>\n",
       "    </tr>\n",
       "  </thead>\n",
       "  <tbody>\n",
       "    <tr>\n",
       "      <th>0</th>\n",
       "      <td>440.0</td>\n",
       "      <td>1.01</td>\n",
       "    </tr>\n",
       "    <tr>\n",
       "      <th>1</th>\n",
       "      <td>616.0</td>\n",
       "      <td>1.42</td>\n",
       "    </tr>\n",
       "    <tr>\n",
       "      <th>2</th>\n",
       "      <td>381.0</td>\n",
       "      <td>0.88</td>\n",
       "    </tr>\n",
       "    <tr>\n",
       "      <th>3</th>\n",
       "      <td>963.0</td>\n",
       "      <td>2.21</td>\n",
       "    </tr>\n",
       "    <tr>\n",
       "      <th>4</th>\n",
       "      <td>431.0</td>\n",
       "      <td>0.99</td>\n",
       "    </tr>\n",
       "    <tr>\n",
       "      <th>5</th>\n",
       "      <td>255.0</td>\n",
       "      <td>0.59</td>\n",
       "    </tr>\n",
       "    <tr>\n",
       "      <th>6</th>\n",
       "      <td>594.0</td>\n",
       "      <td>1.37</td>\n",
       "    </tr>\n",
       "    <tr>\n",
       "      <th>7</th>\n",
       "      <td>625.0</td>\n",
       "      <td>1.44</td>\n",
       "    </tr>\n",
       "    <tr>\n",
       "      <th>8</th>\n",
       "      <td>708.0</td>\n",
       "      <td>1.63</td>\n",
       "    </tr>\n",
       "    <tr>\n",
       "      <th>9</th>\n",
       "      <td>468.0</td>\n",
       "      <td>1.08</td>\n",
       "    </tr>\n",
       "  </tbody>\n",
       "</table>\n",
       "</div>"
      ],
      "text/plain": [
       "   Terreno (m2)  Precio (MDP)\n",
       "0         440.0          1.01\n",
       "1         616.0          1.42\n",
       "2         381.0          0.88\n",
       "3         963.0          2.21\n",
       "4         431.0          0.99\n",
       "5         255.0          0.59\n",
       "6         594.0          1.37\n",
       "7         625.0          1.44\n",
       "8         708.0          1.63\n",
       "9         468.0          1.08"
      ]
     },
     "execution_count": 2,
     "metadata": {},
     "output_type": "execute_result"
    }
   ],
   "source": [
    "df = pd.read_csv(\"casas.csv\")\n",
    "df"
   ]
  },
  {
   "cell_type": "code",
   "execution_count": 3,
   "metadata": {},
   "outputs": [],
   "source": [
    "x = df['Terreno (m2)'].values\n",
    "y = df['Precio (MDP)'].values\n",
    "x_train, x_test, y_train, y_test = train_test_split(x, y, test_size=0.3, shuffle= True, random_state=0)"
   ]
  },
  {
   "cell_type": "code",
   "execution_count": 4,
   "metadata": {},
   "outputs": [
    {
     "data": {
      "text/plain": [
       "([[0.3102798468, 0.5765830223999999, 0.35099898679999997],\n",
       "  [0.5107482737671498, 0.9491070284176958, 0.5777756062825239],\n",
       "  [0.6402687393247717, 1.1897907281940638, 0.7242935082650304],\n",
       "  [0.7239505003484762, 1.3452938431672472, 0.8189571276907959]],\n",
       " [2.262138144, 1.4623690915326304, 0.945647024216134, 0.6117985287934806],\n",
       " [0.0008143827999999999,\n",
       "  0.00134054665030748,\n",
       "  0.001680495378805175,\n",
       "  0.0019001325468463942])"
      ]
     },
     "execution_count": 4,
     "metadata": {},
     "output_type": "execute_result"
    }
   ],
   "source": [
    "def BGD(x, y, x_test, y_test, iters, alpha, weight):\n",
    "    wi = 0\n",
    "    sumA = 0\n",
    "    preds = []  \n",
    "    errors = []\n",
    "    wi_values = []   \n",
    "    \n",
    "    for _ in range(iters):\n",
    "        for j in range(len(x)):\n",
    "            sumA += ((wi * x[j]) - y[j]) * x[j]\n",
    "        wi = wi - alpha * (2 * sumA)\n",
    "        wi = wi - weight\n",
    "        weight = wi\n",
    "        y_pred = [np.dot(xi,wi) for xi in x_test]\n",
    "        preds.append(y_pred)\n",
    "        error = sum(abs((y_pred[k] - y_test[k])) for k in range(len(y_test)))\n",
    "        errors.append(error)\n",
    "        wi_values.append(wi)\n",
    "\n",
    "\n",
    "    return preds, errors, wi_values\n",
    "\n",
    "\n",
    "iters = 4\n",
    "alpha = 0.00000007\n",
    "weight = 0.0\n",
    "preds, errors, wi_values = BGD(x_train, y_train, x_test, y_test, iters, alpha, weight)\n",
    "BGD(x_train, y_train, x_test, y_test, iters, alpha, weight)"
   ]
  },
  {
   "cell_type": "code",
   "execution_count": 5,
   "metadata": {},
   "outputs": [],
   "source": [
    "def regresion_plot(x_test, preds, y_test, iterations):\n",
    "    plt.figure(figsize=(10, 6))\n",
    "    for i in range(iterations):\n",
    "        plt.plot(x_test, preds[i], label=f'Iteración {i+1}')\n",
    "    plt.scatter(x_test, y_test, color='red')\n",
    "    plt.title('Regresión Lineal')\n",
    "    plt.xlabel('Terreno (m2)')\n",
    "    plt.ylabel('Precio (MDP)')\n",
    "    plt.legend()\n",
    "    plt.show()\n",
    "\n",
    "def error_plot(errors, iterations):\n",
    "    plt.figure(figsize=(10, 6))\n",
    "    plt.scatter(np.arange(1, iterations + 1), errors, color='red')\n",
    "    plt.title('Error de Estimación')\n",
    "    plt.xlabel('Iteración')\n",
    "    plt.ylabel('Error')\n",
    "    plt.show()"
   ]
  },
  {
   "cell_type": "code",
   "execution_count": 6,
   "metadata": {},
   "outputs": [
    {
     "data": {
      "image/png": "[encoded data removed]",
      "text/plain": [
       "<Figure size 1000x600 with 1 Axes>"
      ]
     },
     "metadata": {},
     "output_type": "display_data"
    }
   ],
   "source": [
    "regresion_plot(x_test, preds, y_test, iters)"
   ]
  },
  {
   "cell_type": "code",
   "execution_count": 7,
   "metadata": {},
   "outputs": [
    {
     "data": {
      "image/png": "[encoded data removed]",
      "text/plain": [
       "<Figure size 1000x600 with 1 Axes>"
      ]
     },
     "metadata": {},
     "output_type": "display_data"
    }
   ],
   "source": [
    "error_plot(errors, iters)"
   ]
  },
  {
   "cell_type": "code",
   "execution_count": 8,
   "metadata": {},
   "outputs": [
    {
     "data": {
      "text/html": [
       "<div>\n",
       "<style scoped>\n",
       "    .dataframe tbody tr th:only-of-type {\n",
       "        vertical-align: middle;\n",
       "    }\n",
       "\n",
       "    .dataframe tbody tr th {\n",
       "        vertical-align: top;\n",
       "    }\n",
       "\n",
       "    .dataframe thead th {\n",
       "        text-align: right;\n",
       "    }\n",
       "</style>\n",
       "<table border=\"1\" class=\"dataframe\">\n",
       "  <thead>\n",
       "    <tr style=\"text-align: right;\">\n",
       "      <th></th>\n",
       "      <th>x1</th>\n",
       "      <th>x2</th>\n",
       "      <th>x3</th>\n",
       "      <th>x4</th>\n",
       "      <th>x5</th>\n",
       "      <th>y</th>\n",
       "    </tr>\n",
       "  </thead>\n",
       "  <tbody>\n",
       "    <tr>\n",
       "      <th>0</th>\n",
       "      <td>1.0</td>\n",
       "      <td>0.4</td>\n",
       "      <td>-12.0</td>\n",
       "      <td>12.0</td>\n",
       "      <td>10.2</td>\n",
       "      <td>11.6</td>\n",
       "    </tr>\n",
       "    <tr>\n",
       "      <th>1</th>\n",
       "      <td>1.0</td>\n",
       "      <td>0.6</td>\n",
       "      <td>-15.0</td>\n",
       "      <td>16.0</td>\n",
       "      <td>11.9</td>\n",
       "      <td>14.5</td>\n",
       "    </tr>\n",
       "    <tr>\n",
       "      <th>2</th>\n",
       "      <td>1.0</td>\n",
       "      <td>0.8</td>\n",
       "      <td>-18.0</td>\n",
       "      <td>20.0</td>\n",
       "      <td>13.6</td>\n",
       "      <td>17.4</td>\n",
       "    </tr>\n",
       "    <tr>\n",
       "      <th>3</th>\n",
       "      <td>1.0</td>\n",
       "      <td>1.0</td>\n",
       "      <td>-21.0</td>\n",
       "      <td>24.0</td>\n",
       "      <td>15.3</td>\n",
       "      <td>20.3</td>\n",
       "    </tr>\n",
       "    <tr>\n",
       "      <th>4</th>\n",
       "      <td>1.0</td>\n",
       "      <td>1.2</td>\n",
       "      <td>-24.0</td>\n",
       "      <td>28.0</td>\n",
       "      <td>17.0</td>\n",
       "      <td>23.2</td>\n",
       "    </tr>\n",
       "    <tr>\n",
       "      <th>5</th>\n",
       "      <td>1.0</td>\n",
       "      <td>1.4</td>\n",
       "      <td>-27.0</td>\n",
       "      <td>32.0</td>\n",
       "      <td>18.7</td>\n",
       "      <td>26.1</td>\n",
       "    </tr>\n",
       "    <tr>\n",
       "      <th>6</th>\n",
       "      <td>1.0</td>\n",
       "      <td>1.6</td>\n",
       "      <td>-30.0</td>\n",
       "      <td>36.0</td>\n",
       "      <td>20.4</td>\n",
       "      <td>29.0</td>\n",
       "    </tr>\n",
       "    <tr>\n",
       "      <th>7</th>\n",
       "      <td>1.0</td>\n",
       "      <td>1.8</td>\n",
       "      <td>-33.0</td>\n",
       "      <td>40.0</td>\n",
       "      <td>22.1</td>\n",
       "      <td>31.9</td>\n",
       "    </tr>\n",
       "    <tr>\n",
       "      <th>8</th>\n",
       "      <td>1.0</td>\n",
       "      <td>2.0</td>\n",
       "      <td>-36.0</td>\n",
       "      <td>44.0</td>\n",
       "      <td>23.8</td>\n",
       "      <td>34.8</td>\n",
       "    </tr>\n",
       "    <tr>\n",
       "      <th>9</th>\n",
       "      <td>1.0</td>\n",
       "      <td>2.2</td>\n",
       "      <td>-39.0</td>\n",
       "      <td>48.0</td>\n",
       "      <td>25.5</td>\n",
       "      <td>37.7</td>\n",
       "    </tr>\n",
       "  </tbody>\n",
       "</table>\n",
       "</div>"
      ],
      "text/plain": [
       "    x1   x2    x3    x4    x5     y\n",
       "0  1.0  0.4 -12.0  12.0  10.2  11.6\n",
       "1  1.0  0.6 -15.0  16.0  11.9  14.5\n",
       "2  1.0  0.8 -18.0  20.0  13.6  17.4\n",
       "3  1.0  1.0 -21.0  24.0  15.3  20.3\n",
       "4  1.0  1.2 -24.0  28.0  17.0  23.2\n",
       "5  1.0  1.4 -27.0  32.0  18.7  26.1\n",
       "6  1.0  1.6 -30.0  36.0  20.4  29.0\n",
       "7  1.0  1.8 -33.0  40.0  22.1  31.9\n",
       "8  1.0  2.0 -36.0  44.0  23.8  34.8\n",
       "9  1.0  2.2 -39.0  48.0  25.5  37.7"
      ]
     },
     "execution_count": 8,
     "metadata": {},
     "output_type": "execute_result"
    }
   ],
   "source": [
    "df2 = pd.read_csv('Dataset_multivariable.csv')\n",
    "df2"
   ]
  },
  {
   "cell_type": "code",
   "execution_count": 9,
   "metadata": {},
   "outputs": [],
   "source": [
    "x = df2[['x1', 'x2', 'x3', 'x4', 'x5']].values\n",
    "y = df2['y'].values\n",
    "x_train, x_test, y_train, y_test = train_test_split(x, y, test_size=0.3, shuffle= True, random_state=0)\n"
   ]
  },
  {
   "cell_type": "code",
   "execution_count": 10,
   "metadata": {},
   "outputs": [
    {
     "name": "stdout",
     "output_type": "stream",
     "text": [
      "w\n",
      "Iteración 0:[0.3422, 0.51388, -9.7614, 11.6464, 6.694940000000001]\n",
      "Iteración 1:[0.6796092, 1.0132480288, 79.0478172, -144.41536, -18.53494139]\n",
      "Iteración 2:[1.0122946712, 1.4985139044666882, -728.9384408855999, 1946.8122239999998, 76.543866628215]\n",
      "Iteración 3:[1.3403225458032, 1.970075871804549, 6622.120535177188, -26075.637401599997, -281.76062138842826]\n",
      "Iteración 4:[1.6637580301619552, 2.4283209291847885, -60257.81402904206, 349425.18758143997, 1068.5098417022919]\n",
      "Iteración 5:[1.9826654177396879, 2.87362514614461, 548215.8306362247, -4682285.867191296, -4019.984398455087]\n",
      "Iteración 6:[2.2971081018913324, 3.306353972017486, -4987677.388528372, 62742642.266763374, 15156.006145577994]\n",
      "Iteración 7:[2.6071485884648538, 3.7268625358477125, 45377879.11943114, -840751394.7282293, -57108.71421961067]\n",
      "Iteración 8:[2.912848508226346, 4.1354959378353735, -412847953.9899845, 11266068701.004673, 215220.88447660283]\n",
      "Iteración 9:[3.214268629111177, 4.532589532550903, 3756090675.6394796, -150965320581.81622, -811053.2082100778]\n",
      "y_test\n",
      "Iteración 0:[17.4, 34.8, 23.2]\n",
      "Iteración 1:[17.4, 34.8, 23.2]\n",
      "Iteración 2:[17.4, 34.8, 23.2]\n",
      "Iteración 3:[17.4, 34.8, 23.2]\n",
      "Iteración 4:[17.4, 34.8, 23.2]\n",
      "Iteración 5:[17.4, 34.8, 23.2]\n",
      "Iteración 6:[17.4, 34.8, 23.2]\n",
      "Iteración 7:[17.4, 34.8, 23.2]\n",
      "Iteración 8:[17.4, 34.8, 23.2]\n",
      "Iteración 9:[17.4, 34.8, 23.2]\n",
      "y_pred\n",
      "Iteración 0:[500.437688, 1024.561532, 675.145636]\n",
      "Iteración 1:[-4561.752904880959, -9638.4227590244, -6253.97618959544]\n",
      "Iteración 2:[53100.3441078793, 113727.27507611323, 73309.32109729061]\n",
      "Iteración 3:[-644539.9457328287, -1392425.007251534, -893834.9662390638]\n",
      "Iteración 4:[8087679.744413481, 17569426.613261275, 11248262.034029413]\n",
      "Iteración 5:[-103568269.80153142, -225852015.95808864, -144329518.52038383]\n",
      "Iteración 6:[1344837164.9545493, 2940593367.580691, 1876755899.1632628]\n",
      "Iteración 7:[-17632606391.639095, -38628024193.67916, -24631078992.319115]\n",
      "Iteración 8:[232755564202.1633, 510574671456.07947, 325361933286.802]\n",
      "Iteración 9:[-3086927074114.6265, -6777712672977.011, -4317188940402.0884]\n",
      "Error de aproximación\n",
      "Iteración 0:2124.744856\n",
      "Iteración 1:20529.551853500798\n",
      "Iteración 2:240061.54028128315\n",
      "Iteración 3:2930875.3192234263\n",
      "Iteración 4:36905292.991704166\n",
      "Iteración 5:473749879.6800039\n",
      "Iteración 6:6162186356.298503\n",
      "Iteración 7:80891709653.03738\n",
      "Iteración 8:1068692168869.6448\n",
      "Iteración 9:14181828687569.125\n"
     ]
    }
   ],
   "source": [
    "def approximation_Error(x_test, y_test, weightVector):\n",
    "    approximationM = 0\n",
    "    numberRows = x_test.shape[0]\n",
    "    yEstimatedVector = []\n",
    "    yRealVector = []\n",
    "    for i in range(numberRows):\n",
    "        yEstimated = np.dot(x_test[i], weightVector)\n",
    "        yEstimatedVector.append(yEstimated)\n",
    "        yReal = y_test[i] \n",
    "        yRealVector.append(yReal)\n",
    "        approximationM += abs(yReal - yEstimated)\n",
    "    return approximationM, yEstimatedVector, yRealVector\n",
    "\n",
    "\n",
    "\n",
    "def request_Weights():\n",
    "    weightVector = [0, 0, 0, 0, 0]\n",
    "    for i in range(5):\n",
    "        currentWeightDisplay = 'w' + str(i)\n",
    "        wi = int(input('Ingresar peso {}:'.format(currentWeightDisplay)))\n",
    "        weightVector[i] = wi\n",
    "    return weightVector\n",
    "\n",
    "\n",
    "def bgd(x_train, y_train, x_test, y_test, iterations):\n",
    "    alpha = float(input('Ingresar el alpha:'))\n",
    "    weightVector = request_Weights()\n",
    "    vectorError = []\n",
    "    vectorWeights = []\n",
    "    vectorEsimated = []\n",
    "    vectorReal = []\n",
    "    for _ in range(iterations):\n",
    "        for i, wi in enumerate(weightVector):\n",
    "            sum = np.dot((wi * x_train[:, i] - y_train), x_train[:, i])\n",
    "            wi = wi - 2 * alpha * sum\n",
    "            weightVector[i] = wi\n",
    "        results = approximation_Error(x_test, y_test, weightVector)\n",
    "        vectorWeights.append(weightVector.copy())\n",
    "        vectorError.append(results[0])\n",
    "        vectorEsimated.append(results[1])\n",
    "        vectorReal.append(results[2])\n",
    "\n",
    "    return vectorWeights, vectorError, vectorEsimated, vectorReal\n",
    "\n",
    "\n",
    "\n",
    "def imprimir(vector, message):\n",
    "    print(message)\n",
    "    for i, v in enumerate(vector):\n",
    "        print('Iteración {}:{}'.format(i, v))\n",
    "\n",
    "\n",
    "\n",
    "\n",
    "iterations = int(input('Ingresar el número de iteraciones:'))\n",
    "weights, train_errors, estimated, real = bgd(x_train, y_train, x_test, y_test, iterations)\n",
    "\n",
    "imprimir(weights, 'w')\n",
    "imprimir(real, 'y_test')\n",
    "imprimir(estimated, 'y_pred')\n",
    "imprimir(train_errors, 'Error de aproximación')"
   ]
  },
  {
   "cell_type": "code",
   "execution_count": 11,
   "metadata": {},
   "outputs": [
    {
     "data": {
      "text/plain": [
       "([[3.002626128, 6.147369192, 4.050873816],\n",
       "  [6.005252256, 12.294738384000002, 8.101747632],\n",
       "  [9.007878384000001, 18.442107576, 12.152621448000001],\n",
       "  [12.010504512, 24.589476768000004, 16.203495264]],\n",
       " [62.199130864, 48.99826172799999, 35.797392591999994, 22.59652345599999])"
      ]
     },
     "execution_count": 11,
     "metadata": {},
     "output_type": "execute_result"
    }
   ],
   "source": [
    "def BGDGOD(x, y, x_test, y_test, iters, alpha, weight):\n",
    "    w = [0] * len(x[0]) \n",
    "    preds = []\n",
    "    errors = []\n",
    "\n",
    "    for _ in range(iters):\n",
    "        for i in range(len(x)):\n",
    "            y_pred = np.dot(x[i],weight)\n",
    "            for j in range(len(w)):\n",
    "                w[j] = w[j] - alpha * (2* (y_pred - y[i]) * x[i][j])\n",
    "        y_pred_test = [np.dot(xi,w) for xi in x_test]\n",
    "        preds.append(y_pred_test)\n",
    "        error = sum(abs(y_pred_test[k] - y_test[k]) for k in range(len(y_test)))\n",
    "        errors.append(error)\n",
    "\n",
    "    return preds, errors\n",
    "\n",
    "iters = 4\n",
    "alpha = 0.000006\n",
    "weight = [0, 0, 0, 0, 0]\n",
    "preds, errors = BGDGOD(x_train, y_train, x_test, y_test, iters, alpha, weight)\n",
    "BGDGOD(x_train, y_train, x_test, y_test, iters, alpha, weight)"
   ]
  },
  {
   "cell_type": "code",
   "execution_count": 12,
   "metadata": {},
   "outputs": [
    {
     "data": {
      "image/png": "[encoded data removed]",
      "text/plain": [
       "<Figure size 1000x600 with 1 Axes>"
      ]
     },
     "metadata": {},
     "output_type": "display_data"
    }
   ],
   "source": [
    "error_plot(errors, iterations)"
   ]
  }
 ],
 "metadata": {
  "kernelspec": {
   "display_name": "Python 3",
   "language": "python",
   "name": "python3"
  },
  "language_info": {
   "codemirror_mode": {
    "name": "ipython",
    "version": 3
   },
   "file_extension": ".py",
   "mimetype": "text/x-python",
   "name": "python",
   "nbconvert_exporter": "python",
   "pygments_lexer": "ipython3",
   "version": "3.12.3"
  }
 },
 "nbformat": 4,
 "nbformat_minor": 2
}
